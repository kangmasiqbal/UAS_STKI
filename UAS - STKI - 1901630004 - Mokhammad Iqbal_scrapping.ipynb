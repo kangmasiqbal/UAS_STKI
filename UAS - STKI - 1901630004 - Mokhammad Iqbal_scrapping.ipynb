{
 "cells": [
  {
   "cell_type": "code",
   "execution_count": 1,
   "metadata": {},
   "outputs": [],
   "source": [
    "#Input Libraries\n",
    "#Untuk menjalankan skrip berikut, kita memerlukan library BeautifulSoup, urllib.\n",
    "from urllib.request import urlopen\n",
    "from bs4 import BeautifulSoup"
   ]
  },
  {
   "cell_type": "code",
   "execution_count": 2,
   "metadata": {},
   "outputs": [],
   "source": [
    "#Parsing HTML\n",
    "wiki_link = \"https://id.wikipedia.org/wiki/Wikipedia\"\n",
    "html = urlopen(wiki_link).read()\n",
    "soup = BeautifulSoup(html, 'html.parser')"
   ]
  },
  {
   "cell_type": "code",
   "execution_count": 3,
   "metadata": {},
   "outputs": [],
   "source": [
    "#Cari pattern dari kategori\n",
    "categories_table = soup.find(\"div\", {\"id\": \"mw-normal-catlinks\"})"
   ]
  },
  {
   "cell_type": "code",
   "execution_count": 4,
   "metadata": {},
   "outputs": [
    {
     "name": "stdout",
     "output_type": "stream",
     "text": [
      "Artikel yang mengandung pernyataan berpotensi usang sejak Januari 2019\n",
      "Proyek Wikipedia\n",
      "Ensiklopedia daring\n",
      "Proyek Wikimedia\n",
      "Wiki\n"
     ]
    }
   ],
   "source": [
    "#Outputkan teks dari setiap kategori yang telah ditemukan\n",
    "for each in categories_table.findAll(\"li\"):\n",
    "    print(each.text)"
   ]
  }
 ],
 "metadata": {
  "kernelspec": {
   "display_name": "Python 3",
   "language": "python",
   "name": "python3"
  },
  "language_info": {
   "codemirror_mode": {
    "name": "ipython",
    "version": 3
   },
   "file_extension": ".py",
   "mimetype": "text/x-python",
   "name": "python",
   "nbconvert_exporter": "python",
   "pygments_lexer": "ipython3",
   "version": "3.7.6"
  }
 },
 "nbformat": 4,
 "nbformat_minor": 4
}
